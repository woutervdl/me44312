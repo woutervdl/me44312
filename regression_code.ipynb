{
 "cells": [
  {
   "cell_type": "code",
   "execution_count": 10,
   "metadata": {},
   "outputs": [],
   "source": [
    "import pandas as pd\n",
    "import seaborn as sns\n",
    "import numpy as np\n",
    "import matplotlib.pyplot as plt\n",
    "from sklearn.preprocessing import OneHotEncoder, MinMaxScaler\n",
    "from sklearn.model_selection import train_test_split\n",
    "from sklearn.linear_model import LinearRegression\n",
    "\n"
   ]
  },
  {
   "cell_type": "code",
   "execution_count": 11,
   "metadata": {},
   "outputs": [
    {
     "name": "stdout",
     "output_type": "stream",
     "text": [
      "Requirement already satisfied: fastparquet in /opt/anaconda3/envs/ME44312/lib/python3.12/site-packages (2024.11.0)\n",
      "Requirement already satisfied: pandas>=1.5.0 in /opt/anaconda3/envs/ME44312/lib/python3.12/site-packages (from fastparquet) (2.2.3)\n",
      "Requirement already satisfied: numpy in /opt/anaconda3/envs/ME44312/lib/python3.12/site-packages (from fastparquet) (2.1.3)\n",
      "Requirement already satisfied: cramjam>=2.3 in /opt/anaconda3/envs/ME44312/lib/python3.12/site-packages (from fastparquet) (2.9.1)\n",
      "Requirement already satisfied: fsspec in /opt/anaconda3/envs/ME44312/lib/python3.12/site-packages (from fastparquet) (2025.3.0)\n",
      "Requirement already satisfied: packaging in /opt/anaconda3/envs/ME44312/lib/python3.12/site-packages (from fastparquet) (24.1)\n",
      "Requirement already satisfied: python-dateutil>=2.8.2 in /opt/anaconda3/envs/ME44312/lib/python3.12/site-packages (from pandas>=1.5.0->fastparquet) (2.9.0.post0)\n",
      "Requirement already satisfied: pytz>=2020.1 in /opt/anaconda3/envs/ME44312/lib/python3.12/site-packages (from pandas>=1.5.0->fastparquet) (2024.1)\n",
      "Requirement already satisfied: tzdata>=2022.7 in /opt/anaconda3/envs/ME44312/lib/python3.12/site-packages (from pandas>=1.5.0->fastparquet) (2025.2)\n",
      "Requirement already satisfied: six>=1.5 in /opt/anaconda3/envs/ME44312/lib/python3.12/site-packages (from python-dateutil>=2.8.2->pandas>=1.5.0->fastparquet) (1.16.0)\n",
      "Note: you may need to restart the kernel to use updated packages.\n"
     ]
    }
   ],
   "source": [
    "pip install fastparquet\n"
   ]
  },
  {
   "cell_type": "code",
   "execution_count": 12,
   "metadata": {},
   "outputs": [
    {
     "data": {
      "text/html": [
       "<div>\n",
       "<style scoped>\n",
       "    .dataframe tbody tr th:only-of-type {\n",
       "        vertical-align: middle;\n",
       "    }\n",
       "\n",
       "    .dataframe tbody tr th {\n",
       "        vertical-align: top;\n",
       "    }\n",
       "\n",
       "    .dataframe thead th {\n",
       "        text-align: right;\n",
       "    }\n",
       "</style>\n",
       "<table border=\"1\" class=\"dataframe\">\n",
       "  <thead>\n",
       "    <tr style=\"text-align: right;\">\n",
       "      <th></th>\n",
       "      <th>passenger_count</th>\n",
       "      <th>trip_distance</th>\n",
       "      <th>RatecodeID_1.0</th>\n",
       "      <th>RatecodeID_2.0</th>\n",
       "      <th>RatecodeID_3.0</th>\n",
       "      <th>RatecodeID_4.0</th>\n",
       "      <th>RatecodeID_5.0</th>\n",
       "      <th>RatecodeID_6.0</th>\n",
       "      <th>RatecodeID_99.0</th>\n",
       "      <th>payment_type_1</th>\n",
       "      <th>...</th>\n",
       "      <th>Trip_Staten Island-&gt;Brooklyn</th>\n",
       "      <th>Trip_Staten Island-&gt;Manhattan</th>\n",
       "      <th>Trip_Staten Island-&gt;Queens</th>\n",
       "      <th>Trip_Staten Island-&gt;Staten Island</th>\n",
       "      <th>trip_duration</th>\n",
       "      <th>pickup_hour</th>\n",
       "      <th>pickup_day</th>\n",
       "      <th>peak_times</th>\n",
       "      <th>weekend</th>\n",
       "      <th>total_amount_no_tip</th>\n",
       "    </tr>\n",
       "  </thead>\n",
       "  <tbody>\n",
       "    <tr>\n",
       "      <th>0</th>\n",
       "      <td>0.25</td>\n",
       "      <td>0.469005</td>\n",
       "      <td>1.0</td>\n",
       "      <td>0.0</td>\n",
       "      <td>0.0</td>\n",
       "      <td>0.0</td>\n",
       "      <td>0.0</td>\n",
       "      <td>0.0</td>\n",
       "      <td>0.0</td>\n",
       "      <td>1.0</td>\n",
       "      <td>...</td>\n",
       "      <td>0.0</td>\n",
       "      <td>0.0</td>\n",
       "      <td>0.0</td>\n",
       "      <td>0.0</td>\n",
       "      <td>0.215937</td>\n",
       "      <td>0.0</td>\n",
       "      <td>1.000000</td>\n",
       "      <td>0.0</td>\n",
       "      <td>1.0</td>\n",
       "      <td>0.423341</td>\n",
       "    </tr>\n",
       "    <tr>\n",
       "      <th>1</th>\n",
       "      <td>0.25</td>\n",
       "      <td>0.366170</td>\n",
       "      <td>1.0</td>\n",
       "      <td>0.0</td>\n",
       "      <td>0.0</td>\n",
       "      <td>0.0</td>\n",
       "      <td>0.0</td>\n",
       "      <td>0.0</td>\n",
       "      <td>0.0</td>\n",
       "      <td>1.0</td>\n",
       "      <td>...</td>\n",
       "      <td>0.0</td>\n",
       "      <td>0.0</td>\n",
       "      <td>0.0</td>\n",
       "      <td>0.0</td>\n",
       "      <td>0.379359</td>\n",
       "      <td>1.0</td>\n",
       "      <td>0.833333</td>\n",
       "      <td>0.0</td>\n",
       "      <td>1.0</td>\n",
       "      <td>0.378032</td>\n",
       "    </tr>\n",
       "    <tr>\n",
       "      <th>2</th>\n",
       "      <td>1.00</td>\n",
       "      <td>0.964440</td>\n",
       "      <td>0.0</td>\n",
       "      <td>1.0</td>\n",
       "      <td>0.0</td>\n",
       "      <td>0.0</td>\n",
       "      <td>0.0</td>\n",
       "      <td>0.0</td>\n",
       "      <td>0.0</td>\n",
       "      <td>0.0</td>\n",
       "      <td>...</td>\n",
       "      <td>0.0</td>\n",
       "      <td>0.0</td>\n",
       "      <td>0.0</td>\n",
       "      <td>0.0</td>\n",
       "      <td>0.403690</td>\n",
       "      <td>0.0</td>\n",
       "      <td>1.000000</td>\n",
       "      <td>0.0</td>\n",
       "      <td>1.0</td>\n",
       "      <td>0.747735</td>\n",
       "    </tr>\n",
       "    <tr>\n",
       "      <th>3</th>\n",
       "      <td>0.75</td>\n",
       "      <td>0.112446</td>\n",
       "      <td>1.0</td>\n",
       "      <td>0.0</td>\n",
       "      <td>0.0</td>\n",
       "      <td>0.0</td>\n",
       "      <td>0.0</td>\n",
       "      <td>0.0</td>\n",
       "      <td>0.0</td>\n",
       "      <td>1.0</td>\n",
       "      <td>...</td>\n",
       "      <td>0.0</td>\n",
       "      <td>0.0</td>\n",
       "      <td>0.0</td>\n",
       "      <td>0.0</td>\n",
       "      <td>0.170316</td>\n",
       "      <td>0.0</td>\n",
       "      <td>1.000000</td>\n",
       "      <td>0.0</td>\n",
       "      <td>1.0</td>\n",
       "      <td>0.179405</td>\n",
       "    </tr>\n",
       "    <tr>\n",
       "      <th>4</th>\n",
       "      <td>0.25</td>\n",
       "      <td>0.242672</td>\n",
       "      <td>1.0</td>\n",
       "      <td>0.0</td>\n",
       "      <td>0.0</td>\n",
       "      <td>0.0</td>\n",
       "      <td>0.0</td>\n",
       "      <td>0.0</td>\n",
       "      <td>0.0</td>\n",
       "      <td>1.0</td>\n",
       "      <td>...</td>\n",
       "      <td>0.0</td>\n",
       "      <td>0.0</td>\n",
       "      <td>0.0</td>\n",
       "      <td>0.0</td>\n",
       "      <td>0.257908</td>\n",
       "      <td>0.0</td>\n",
       "      <td>1.000000</td>\n",
       "      <td>0.0</td>\n",
       "      <td>1.0</td>\n",
       "      <td>0.281922</td>\n",
       "    </tr>\n",
       "  </tbody>\n",
       "</table>\n",
       "<p>5 rows × 50 columns</p>\n",
       "</div>"
      ],
      "text/plain": [
       "   passenger_count  trip_distance  RatecodeID_1.0  RatecodeID_2.0  \\\n",
       "0             0.25       0.469005             1.0             0.0   \n",
       "1             0.25       0.366170             1.0             0.0   \n",
       "2             1.00       0.964440             0.0             1.0   \n",
       "3             0.75       0.112446             1.0             0.0   \n",
       "4             0.25       0.242672             1.0             0.0   \n",
       "\n",
       "   RatecodeID_3.0  RatecodeID_4.0  RatecodeID_5.0  RatecodeID_6.0  \\\n",
       "0             0.0             0.0             0.0             0.0   \n",
       "1             0.0             0.0             0.0             0.0   \n",
       "2             0.0             0.0             0.0             0.0   \n",
       "3             0.0             0.0             0.0             0.0   \n",
       "4             0.0             0.0             0.0             0.0   \n",
       "\n",
       "   RatecodeID_99.0  payment_type_1  ...  Trip_Staten Island->Brooklyn  \\\n",
       "0              0.0             1.0  ...                           0.0   \n",
       "1              0.0             1.0  ...                           0.0   \n",
       "2              0.0             0.0  ...                           0.0   \n",
       "3              0.0             1.0  ...                           0.0   \n",
       "4              0.0             1.0  ...                           0.0   \n",
       "\n",
       "   Trip_Staten Island->Manhattan  Trip_Staten Island->Queens  \\\n",
       "0                            0.0                         0.0   \n",
       "1                            0.0                         0.0   \n",
       "2                            0.0                         0.0   \n",
       "3                            0.0                         0.0   \n",
       "4                            0.0                         0.0   \n",
       "\n",
       "   Trip_Staten Island->Staten Island  trip_duration  pickup_hour  pickup_day  \\\n",
       "0                                0.0       0.215937          0.0    1.000000   \n",
       "1                                0.0       0.379359          1.0    0.833333   \n",
       "2                                0.0       0.403690          0.0    1.000000   \n",
       "3                                0.0       0.170316          0.0    1.000000   \n",
       "4                                0.0       0.257908          0.0    1.000000   \n",
       "\n",
       "   peak_times  weekend  total_amount_no_tip  \n",
       "0         0.0      1.0             0.423341  \n",
       "1         0.0      1.0             0.378032  \n",
       "2         0.0      1.0             0.747735  \n",
       "3         0.0      1.0             0.179405  \n",
       "4         0.0      1.0             0.281922  \n",
       "\n",
       "[5 rows x 50 columns]"
      ]
     },
     "execution_count": 12,
     "metadata": {},
     "output_type": "execute_result"
    }
   ],
   "source": [
    "# In case kernel has crashed again, load the data here so you can skip all previous cells\n",
    "final_data = pd.read_parquet('data/final_data_cleaned_scaled.parquet')\n",
    "final_data.to_csv()\n",
    "\n",
    "# Again since kernel sometimes crashes\n",
    "all_columns = final_data.columns.tolist()\n",
    "not_hot_columns = ['passenger_count', 'trip_distance', 'trip_duration', 'pickup_hour', 'pickup_day', 'peak_times', 'weekend', 'total_amount_no_tip']\n",
    "\n",
    "final_data.head()"
   ]
  },
  {
   "cell_type": "code",
   "execution_count": 13,
   "metadata": {},
   "outputs": [
    {
     "data": {
      "text/plain": [
       "Index(['passenger_count', 'trip_distance', 'RatecodeID_1.0', 'RatecodeID_2.0',\n",
       "       'RatecodeID_3.0', 'RatecodeID_4.0', 'RatecodeID_5.0', 'RatecodeID_6.0',\n",
       "       'RatecodeID_99.0', 'payment_type_1', 'payment_type_2', 'payment_type_3',\n",
       "       'payment_type_4', 'Trip_Bronx->Bronx', 'Trip_Bronx->Brooklyn',\n",
       "       'Trip_Bronx->EWR', 'Trip_Bronx->Manhattan', 'Trip_Bronx->Queens',\n",
       "       'Trip_Bronx->Staten Island', 'Trip_Brooklyn->Bronx',\n",
       "       'Trip_Brooklyn->Brooklyn', 'Trip_Brooklyn->EWR',\n",
       "       'Trip_Brooklyn->Manhattan', 'Trip_Brooklyn->Queens',\n",
       "       'Trip_Brooklyn->Staten Island', 'Trip_EWR->Brooklyn', 'Trip_EWR->EWR',\n",
       "       'Trip_EWR->Manhattan', 'Trip_Manhattan->Bronx',\n",
       "       'Trip_Manhattan->Brooklyn', 'Trip_Manhattan->EWR',\n",
       "       'Trip_Manhattan->Manhattan', 'Trip_Manhattan->Queens',\n",
       "       'Trip_Manhattan->Staten Island', 'Trip_Queens->Bronx',\n",
       "       'Trip_Queens->Brooklyn', 'Trip_Queens->EWR', 'Trip_Queens->Manhattan',\n",
       "       'Trip_Queens->Queens', 'Trip_Queens->Staten Island',\n",
       "       'Trip_Staten Island->Brooklyn', 'Trip_Staten Island->Manhattan',\n",
       "       'Trip_Staten Island->Queens', 'Trip_Staten Island->Staten Island',\n",
       "       'trip_duration', 'pickup_hour', 'pickup_day', 'peak_times', 'weekend',\n",
       "       'total_amount_no_tip'],\n",
       "      dtype='object')"
      ]
     },
     "execution_count": 13,
     "metadata": {},
     "output_type": "execute_result"
    }
   ],
   "source": [
    "final_data.columns"
   ]
  },
  {
   "cell_type": "code",
   "execution_count": 25,
   "metadata": {},
   "outputs": [],
   "source": [
    "# Creating train test split\n",
    "X_train, X_test, y_train, y_test = train_test_split(X, y, test_size=0.5, random_state=42)"
   ]
  },
  {
   "cell_type": "code",
   "execution_count": 26,
   "metadata": {},
   "outputs": [
    {
     "name": "stdout",
     "output_type": "stream",
     "text": [
      "953148\n",
      "946204\n"
     ]
    }
   ],
   "source": [
    "print(X_train.isnull().sum().sum())  # Telt alle missende waarden in X_train\n",
    "print(X_test.isnull().sum().sum())   # Telt alle missende waarden in X_test\n",
    "#dit is wel vrij hoog..."
   ]
  },
  {
   "cell_type": "code",
   "execution_count": 27,
   "metadata": {},
   "outputs": [],
   "source": [
    "X_train = X_train.dropna()\n",
    "y_train = y_train.loc[X_train.index]  # Houd dezelfde index\n",
    "X_test = X_test.dropna()\n",
    "y_test = y_test.loc[X_test.index]\n"
   ]
  },
  {
   "cell_type": "code",
   "execution_count": 28,
   "metadata": {},
   "outputs": [],
   "source": [
    "# Lastly we set create two new dataframes for the features and target variable\n",
    "X = final_data.drop(columns=['total_amount_no_tip'])  # Features\n",
    "y = final_data['total_amount_no_tip']  # Doelvariabele\n"
   ]
  },
  {
   "cell_type": "code",
   "execution_count": 29,
   "metadata": {},
   "outputs": [
    {
     "name": "stdout",
     "output_type": "stream",
     "text": [
      "0\n",
      "0\n"
     ]
    }
   ],
   "source": [
    "print(X_train.isnull().sum().sum())  # Telt alle missende waarden in X_train\n",
    "print(X_test.isnull().sum().sum())   # Telt alle missende waarden in X_test\n",
    "#dit is wel vrij hoog...\n"
   ]
  },
  {
   "cell_type": "code",
   "execution_count": 30,
   "metadata": {},
   "outputs": [
    {
     "name": "stdout",
     "output_type": "stream",
     "text": [
      "Mean Squared Error: 0.0018217521631440586\n",
      "R-squared: 0.9249082870504857\n"
     ]
    }
   ],
   "source": [
    "from sklearn.metrics import mean_squared_error, r2_score\n",
    "# Model trainen\n",
    "model = LinearRegression()\n",
    "model.fit(X_train, y_train)\n",
    "\n",
    "# Voorspellingen maken\n",
    "y_pred = model.predict(X_test)\n",
    "\n",
    "# Model evaluatie\n",
    "mse = mean_squared_error(y_test, y_pred)\n",
    "r2 = r2_score(y_test, y_pred)\n",
    "\n",
    "print(f\"Mean Squared Error: {mse}\")\n",
    "print(f\"R-squared: {r2}\")"
   ]
  },
  {
   "cell_type": "code",
   "execution_count": 31,
   "metadata": {},
   "outputs": [],
   "source": [
    "#from sklearn.impute import SimpleImputer\n",
    "#we zouden ook ipv de NaN's droppen ze vervangen door het gemiddelde\n",
    "#imputer = SimpleImputer(strategy=\"mean\")  # Kan ook \"median\" of \"most_frequent\" zijn\n",
    "#X_train = pd.DataFrame(imputer.fit_transform(X_train), columns=X_train.columns)\n",
    "#X_test = pd.DataFrame(imputer.transform(X_test), columns=X_test.columns)\n"
   ]
  },
  {
   "cell_type": "code",
   "execution_count": 32,
   "metadata": {},
   "outputs": [
    {
     "name": "stdout",
     "output_type": "stream",
     "text": [
      "Aantal voorbeelden in de trainingsset: 1521634\n",
      "Aantal voorbeelden in de testset: 1521895\n"
     ]
    }
   ],
   "source": [
    "# Controleer de grootte van de trainings- en testdata\n",
    "print(f\"Aantal voorbeelden in de trainingsset: {X_train.shape[0]}\")\n",
    "print(f\"Aantal voorbeelden in de testset: {X_test.shape[0]}\")\n"
   ]
  },
  {
   "cell_type": "code",
   "execution_count": null,
   "metadata": {},
   "outputs": [],
   "source": []
  }
 ],
 "metadata": {
  "kernelspec": {
   "display_name": "ME44312",
   "language": "python",
   "name": "python3"
  },
  "language_info": {
   "codemirror_mode": {
    "name": "ipython",
    "version": 3
   },
   "file_extension": ".py",
   "mimetype": "text/x-python",
   "name": "python",
   "nbconvert_exporter": "python",
   "pygments_lexer": "ipython3",
   "version": "3.12.5"
  }
 },
 "nbformat": 4,
 "nbformat_minor": 2
}
